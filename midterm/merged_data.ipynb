{
 "cells": [
  {
   "cell_type": "code",
   "execution_count": 9,
   "metadata": {},
   "outputs": [
    {
     "name": "stdout",
     "output_type": "stream",
     "text": [
      "Requirement already satisfied: pandas in /opt/anaconda3/envs/my_env/lib/python3.12/site-packages (2.2.3)\n",
      "Requirement already satisfied: openpyxl in /opt/anaconda3/envs/my_env/lib/python3.12/site-packages (3.1.5)\n",
      "Requirement already satisfied: numpy>=1.26.0 in /opt/anaconda3/envs/my_env/lib/python3.12/site-packages (from pandas) (1.26.4)\n",
      "Requirement already satisfied: python-dateutil>=2.8.2 in /opt/anaconda3/envs/my_env/lib/python3.12/site-packages (from pandas) (2.9.0.post0)\n",
      "Requirement already satisfied: pytz>=2020.1 in /opt/anaconda3/envs/my_env/lib/python3.12/site-packages (from pandas) (2025.1)\n",
      "Requirement already satisfied: tzdata>=2022.7 in /opt/anaconda3/envs/my_env/lib/python3.12/site-packages (from pandas) (2025.1)\n",
      "Requirement already satisfied: et-xmlfile in /opt/anaconda3/envs/my_env/lib/python3.12/site-packages (from openpyxl) (2.0.0)\n",
      "Requirement already satisfied: six>=1.5 in /opt/anaconda3/envs/my_env/lib/python3.12/site-packages (from python-dateutil>=2.8.2->pandas) (1.17.0)\n",
      "Note: you may need to restart the kernel to use updated packages.\n"
     ]
    }
   ],
   "source": [
    "%pip install pandas openpyxl"
   ]
  },
  {
   "cell_type": "code",
   "execution_count": 13,
   "metadata": {},
   "outputs": [
    {
     "name": "stdout",
     "output_type": "stream",
     "text": [
      "Error reading 21incyallagi.csv: 'utf-8' codec can't decode byte 0xf1 in position 2: invalid continuation byte\n",
      "Error reading 22incyallagi.csv: 'utf-8' codec can't decode byte 0xf1 in position 2: invalid continuation byte\n",
      "        STATE  Total_Population  Avg_AGI\n",
      "0      Alaska         7788980.0      4.5\n",
      "1     Alabama        47258650.0      4.5\n",
      "2    Arkansas        28459530.0      4.5\n",
      "3     Arizona        72485590.0      4.5\n",
      "4  California       412840200.0      4.5\n"
     ]
    },
    {
     "name": "stderr",
     "output_type": "stream",
     "text": [
      "/var/folders/1v/fl4d4bns3ljc9dhyl3068_c80000gn/T/ipykernel_57161/2409417585.py:24: FutureWarning: The behavior of DataFrame concatenation with empty or all-NA entries is deprecated. In a future version, this will no longer exclude empty or all-NA columns when determining the result dtypes. To retain the old behavior, exclude the relevant entries before the concat operation.\n",
      "  df_csv = pd.concat(dfs, ignore_index=True)\n"
     ]
    }
   ],
   "source": [
    "import pandas as pd\n",
    "import os\n",
    "\n",
    "# Read all CSV files\n",
    "folder_path = \"/Users/zhanyangliu/Desktop/income_data\"\n",
    "csv_files = [f for f in os.listdir(folder_path) if f.endswith(\".csv\")]\n",
    "\n",
    "dfs = []  # List to store DataFrames\n",
    "\n",
    "for file in csv_files:\n",
    "    try:\n",
    "        # Detect encoding first\n",
    "        encoding = \"utf-8\"  # Assume UTF-8, change if needed\n",
    "        df = pd.read_csv(os.path.join(folder_path, file), encoding=encoding, low_memory=False)\n",
    "        \n",
    "        # Ensure 'STATE' column exists (may vary per dataset)\n",
    "        if \"STATE\" in df.columns:\n",
    "            dfs.append(df)\n",
    "    \n",
    "    except Exception as e:\n",
    "        print(f\"Error reading {file}: {e}\")\n",
    "\n",
    "# Combine all CSVs into one DataFrame\n",
    "df_csv = pd.concat(dfs, ignore_index=True)\n",
    "\n",
    "# Aggregate data by STATE\n",
    "df_csv_grouped = df_csv.groupby(\"STATE\").agg({\n",
    "    \"N1\": \"sum\",  # Total population per state\n",
    "    \"agi_stub\": \"mean\",  # Example: Average AGI per state\n",
    "}).reset_index()\n",
    "\n",
    "# Rename columns\n",
    "df_csv_grouped.rename(columns={\"N1\": \"Total_Population\", \"agi_stub\": \"Avg_AGI\"}, inplace=True)\n",
    "# Rename state abbreviations to full state names\n",
    "state_abbrev_to_name = {\n",
    "    \"AK\": \"Alaska\", \"AL\": \"Alabama\", \"AR\": \"Arkansas\", \"AZ\": \"Arizona\", \"CA\": \"California\",\n",
    "    \"CO\": \"Colorado\", \"CT\": \"Connecticut\", \"DC\": \"District of Columbia\", \"DE\": \"Delaware\",\n",
    "    \"FL\": \"Florida\", \"GA\": \"Georgia\", \"HI\": \"Hawaii\", \"IA\": \"Iowa\", \"ID\": \"Idaho\",\n",
    "    \"IL\": \"Illinois\", \"IN\": \"Indiana\", \"KS\": \"Kansas\", \"KY\": \"Kentucky\", \"LA\": \"Louisiana\",\n",
    "    \"MA\": \"Massachusetts\", \"MD\": \"Maryland\", \"ME\": \"Maine\", \"MI\": \"Michigan\", \"MN\": \"Minnesota\",\n",
    "    \"MO\": \"Missouri\", \"MS\": \"Mississippi\", \"MT\": \"Montana\", \"NC\": \"North Carolina\", \"ND\": \"North Dakota\",\n",
    "    \"NE\": \"Nebraska\", \"NH\": \"New Hampshire\", \"NJ\": \"New Jersey\", \"NM\": \"New Mexico\", \"NV\": \"Nevada\",\n",
    "    \"NY\": \"New York\", \"OH\": \"Ohio\", \"OK\": \"Oklahoma\", \"OR\": \"Oregon\", \"PA\": \"Pennsylvania\",\n",
    "    \"RI\": \"Rhode Island\", \"SC\": \"South Carolina\", \"SD\": \"South Dakota\", \"TN\": \"Tennessee\", \"TX\": \"Texas\",\n",
    "    \"UT\": \"Utah\", \"VA\": \"Virginia\", \"VT\": \"Vermont\", \"WA\": \"Washington\", \"WI\": \"Wisconsin\",\n",
    "    \"WV\": \"West Virginia\", \"WY\": \"Wyoming\"\n",
    "}\n",
    "\n",
    "df_csv_grouped[\"STATE\"] = df_csv_grouped[\"STATE\"].map(state_abbrev_to_name)\n",
    "print(df_csv_grouped.head())  # Check grouped data\n"
   ]
  },
  {
   "cell_type": "code",
   "execution_count": 14,
   "metadata": {},
   "outputs": [
    {
     "name": "stdout",
     "output_type": "stream",
     "text": [
      "        STATE  Electric (EV)  Plug-In Hybrid Electric (PHEV)  \\\n",
      "0     Alabama           1300                            1500   \n",
      "1      Alaska            500                             300   \n",
      "2     Arizona          12600                            7700   \n",
      "3    Arkansas            600                             800   \n",
      "4  California         273500                          215000   \n",
      "\n",
      "   Hybrid Electric (HEV)  Biodiesel  Ethanol/Flex (E85)  \\\n",
      "0                  31800          0              509500   \n",
      "1                   5400          0               62000   \n",
      "2                 102000          0              533600   \n",
      "3                  20300          0              370600   \n",
      "4                1085300          0             1615200   \n",
      "\n",
      "   Compressed Natural Gas (CNG)  Propane  Hydrogen  Methanol  Gasoline  \\\n",
      "0                         17000        0         0         0   3733700   \n",
      "1                          3700        0         0         0    484900   \n",
      "2                         15500        0         0         0   5061900   \n",
      "3                          9200        0         0         0   2070200   \n",
      "4                         77700        0      9400       300  28646700   \n",
      "\n",
      "   Diesel  Unknown Fuel  Year  \n",
      "0  135900         46000  2018  \n",
      "1   41000         16100  2018  \n",
      "2  196300        103700  2018  \n",
      "3  101700         18100  2018  \n",
      "4  761600        129800  2018  \n"
     ]
    }
   ],
   "source": [
    "df_xlsx = pd.read_excel(\"/Users/zhanyangliu/Desktop/income_data/sales_2018-2023.xlsx\")\n",
    "\n",
    "# Ensure state column matches in both datasets\n",
    "df_xlsx.rename(columns={\"State\": \"STATE\"}, inplace=True)\n",
    "\n",
    "print(df_xlsx.head())  # Check XLSX data\n"
   ]
  },
  {
   "cell_type": "code",
   "execution_count": 15,
   "metadata": {},
   "outputs": [
    {
     "name": "stdout",
     "output_type": "stream",
     "text": [
      "CSV and XLSX data successfully merged!\n",
      "    STATE  Total_Population  Avg_AGI  Electric (EV)  \\\n",
      "0  Alaska         7788980.0      4.5            500   \n",
      "1  Alaska         7788980.0      4.5            700   \n",
      "2  Alaska         7788980.0      4.5            900   \n",
      "3  Alaska         7788980.0      4.5           1300   \n",
      "4  Alaska         7788980.0      4.5           2700   \n",
      "\n",
      "   Plug-In Hybrid Electric (PHEV)  Hybrid Electric (HEV)  Biodiesel  \\\n",
      "0                             300                   5400          0   \n",
      "1                             400                   5800          0   \n",
      "2                             400                   6200          0   \n",
      "3                             500                   7300       7600   \n",
      "4                             900                  10600       9600   \n",
      "\n",
      "   Ethanol/Flex (E85)  Compressed Natural Gas (CNG)  Propane  Hydrogen  \\\n",
      "0               62000                          3700        0         0   \n",
      "1               64000                          3200        0         0   \n",
      "2               64000                          2700        0         0   \n",
      "3               50100                           100        0         0   \n",
      "4               46800                             0        0         0   \n",
      "\n",
      "   Methanol  Gasoline  Diesel  Unknown Fuel  Year  \n",
      "0         0    484900   41000         16100  2018  \n",
      "1         0    473700   40100         14600  2019  \n",
      "2         0    460900   39600         11400  2020  \n",
      "3         0    464200   31700          6300  2021  \n",
      "4         0    454300   29800          5100  2023  \n"
     ]
    }
   ],
   "source": [
    "merged_df = pd.merge(df_csv_grouped, df_xlsx, on=\"STATE\", how=\"inner\")\n",
    "\n",
    "# Save the merged file\n",
    "merged_df.to_csv(\"merged_income_data.csv\", index=False)\n",
    "\n",
    "print(\"CSV and XLSX data successfully merged!\")\n",
    "print(merged_df.head())"
   ]
  },
  {
   "cell_type": "code",
   "execution_count": null,
   "metadata": {},
   "outputs": [],
   "source": []
  }
 ],
 "metadata": {
  "kernelspec": {
   "display_name": "my_env",
   "language": "python",
   "name": "python3"
  },
  "language_info": {
   "codemirror_mode": {
    "name": "ipython",
    "version": 3
   },
   "file_extension": ".py",
   "mimetype": "text/x-python",
   "name": "python",
   "nbconvert_exporter": "python",
   "pygments_lexer": "ipython3",
   "version": "3.12.9"
  }
 },
 "nbformat": 4,
 "nbformat_minor": 2
}
